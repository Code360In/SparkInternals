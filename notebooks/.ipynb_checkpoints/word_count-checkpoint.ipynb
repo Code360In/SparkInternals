{
 "cells": [
  {
   "cell_type": "code",
   "execution_count": null,
   "id": "35f26109-0e1d-4499-a7c1-1441ff065d3f",
   "metadata": {},
   "outputs": [],
   "source": [
    "from pyspark.sql import SparkSession, DataFrame\n",
    "import os"
   ]
  },
  {
   "cell_type": "code",
   "execution_count": null,
   "id": "74dc00d0-3c1d-4f05-ab13-91d93a310603",
   "metadata": {},
   "outputs": [],
   "source": [
    "local=False\n",
    "if local:\n",
    "    spark=SparkSession.builder.master(\"local[4]\") \\\n",
    "                  .config('spark.jars.packages', 'org.postgresql:postgresql:42.2.24') \\\n",
    "                  .appName(\"RemoveDuplicates\").getOrCreate()\n",
    "else:\n",
    "    spark=SparkSession.builder \\\n",
    "                      .master(\"k8s://https://kubernetes.default.svc:443\") \\\n",
    "                      .appName(\"RemoveDuplicates\") \\\n",
    "                      .config(\"spark.kubernetes.container.image\",\"inseefrlab/jupyter-datascience:master\") \\\n",
    "                      .config(\"spark.kubernetes.authenticate.driver.serviceAccountName\",os.environ['KUBERNETES_SERVICE_ACCOUNT']) \\\n",
    "                      .config(\"spark.kubernetes.namespace\", os.environ['KUBERNETES_NAMESPACE']) \\\n",
    "                      .config(\"spark.executor.instances\", \"4\") \\\n",
    "                      .config(\"spark.executor.memory\",\"8g\") \\\n",
    "                      .config('spark.jars.packages','org.postgresql:postgresql:42.2.24') \\\n",
    "                      .getOrCreate()"
   ]
  },
  {
   "cell_type": "code",
   "execution_count": null,
   "id": "3f7133bd-474f-4fa6-8185-08e211839d4c",
   "metadata": {},
   "outputs": [],
   "source": [
    "! kubectl get pods"
   ]
  },
  {
   "cell_type": "code",
   "execution_count": null,
   "id": "53445852-dcc2-4a7e-911e-a696929848a4",
   "metadata": {},
   "outputs": [],
   "source": [
    "data=[\"hadoop spark\",\"hadoop flume\",\"spark kafka\",\"hello spark\"]\n",
    "textRdd=spark.sparkContext.parallelize(data)"
   ]
  },
  {
   "cell_type": "code",
   "execution_count": null,
   "id": "b4254dbb-92a6-43c6-8325-efa4ddfd5f1c",
   "metadata": {},
   "outputs": [],
   "source": [
    "splitRdd=textRdd.flatMap(lambda item: item.split(\" \"))\n"
   ]
  },
  {
   "cell_type": "code",
   "execution_count": null,
   "id": "244dcfad-690a-465c-9d9d-2507a651bc54",
   "metadata": {},
   "outputs": [],
   "source": [
    "tupleRdd=splitRdd.map(lambda item: (item,1))\n",
    "    "
   ]
  },
  {
   "cell_type": "code",
   "execution_count": null,
   "id": "e57111f5-9d49-4bb0-8f11-32854754b3cb",
   "metadata": {},
   "outputs": [],
   "source": [
    "reduceRdd=tupleRdd.reduceByKey(lambda x,y:x+y)\n"
   ]
  },
  {
   "cell_type": "code",
   "execution_count": null,
   "id": "6bd31ed4-87cb-4ef0-b579-5ee283c17963",
   "metadata": {},
   "outputs": [],
   "source": [
    "strRdd=reduceRdd.map(lambda item: f\"{item[0]}, {item[1]}\")"
   ]
  },
  {
   "cell_type": "code",
   "execution_count": null,
   "id": "4fe1f303-d6d9-439f-8696-cc9d69386a88",
   "metadata": {},
   "outputs": [],
   "source": [
    "list=strRdd.collect()\n",
    "for item in list:\n",
    "    print(item)\n"
   ]
  },
  {
   "cell_type": "code",
   "execution_count": null,
   "id": "0fbf548d-849f-45c8-89be-cced873e2fb9",
   "metadata": {},
   "outputs": [],
   "source": [
    "strRdd.toDebugString()"
   ]
  },
  {
   "cell_type": "code",
   "execution_count": null,
   "id": "6f3d8d08-8986-4168-8a06-22e5207dd163",
   "metadata": {},
   "outputs": [],
   "source": [
    "spark.sparkContext.stop()"
   ]
  }
 ],
 "metadata": {
  "kernelspec": {
   "display_name": "Python 3 (ipykernel)",
   "language": "python",
   "name": "python3"
  },
  "language_info": {
   "codemirror_mode": {
    "name": "ipython",
    "version": 3
   },
   "file_extension": ".py",
   "mimetype": "text/x-python",
   "name": "python",
   "nbconvert_exporter": "python",
   "pygments_lexer": "ipython3",
   "version": "3.9.7"
  }
 },
 "nbformat": 4,
 "nbformat_minor": 5
}